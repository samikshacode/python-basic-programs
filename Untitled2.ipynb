{
  "nbformat": 4,
  "nbformat_minor": 0,
  "metadata": {
    "colab": {
      "provenance": []
    },
    "kernelspec": {
      "name": "python3",
      "display_name": "Python 3"
    },
    "language_info": {
      "name": "python"
    }
  },
  "cells": [
    {
      "cell_type": "code",
      "execution_count": null,
      "metadata": {
        "colab": {
          "base_uri": "https://localhost:8080/"
        },
        "id": "ZXTaKa80iPvW",
        "outputId": "322949fc-a687-44d2-f5ba-8db64cc25428"
      },
      "outputs": [
        {
          "output_type": "stream",
          "name": "stdout",
          "text": [
            "2024-10-01 07:44:56.475598\n",
            "2024-10-01 12:20:00\n"
          ]
        }
      ],
      "source": [
        "from datetime import datetime\n",
        "#display current time\n",
        "current=datetime.now()\n",
        "print(current)\n",
        "date_obj=datetime(2024,10,1,12,20)\n",
        "print(date_obj)\n",
        "\n"
      ]
    },
    {
      "cell_type": "code",
      "source": [
        "#convert string to datetime\n",
        "date_string='2024-10-1 12:20:00'\n",
        "dateformat=datetime.strptime(date_string,'%Y-%m-%d %H:%M:%S')\n",
        "print(dateformat)"
      ],
      "metadata": {
        "colab": {
          "base_uri": "https://localhost:8080/"
        },
        "id": "Pozi0lmwiZsh",
        "outputId": "3e798ac5-1a7f-4b74-c4aa-f924078679b7"
      },
      "execution_count": null,
      "outputs": [
        {
          "output_type": "stream",
          "name": "stdout",
          "text": [
            "2024-10-01 12:20:00\n"
          ]
        }
      ]
    },
    {
      "cell_type": "code",
      "source": [
        "#convert datetime to string\n",
        "fdate=date_obj.strftime('%Y-%m-%d %H:%M:%S')\n",
        "print(\"Formatted date:\")\n",
        "print(fdate)"
      ],
      "metadata": {
        "colab": {
          "base_uri": "https://localhost:8080/"
        },
        "id": "t1s6Rg7gideo",
        "outputId": "be4e2e2a-8f47-4811-ff4b-80e1ed6b2488"
      },
      "execution_count": null,
      "outputs": [
        {
          "output_type": "stream",
          "name": "stdout",
          "text": [
            "Formatted date:\n",
            "2024-10-01 12:20:00\n"
          ]
        }
      ]
    },
    {
      "cell_type": "code",
      "source": [
        "#time difference\n",
        "td=date_obj-current\n",
        "print(\"Time difference:\",td)\n",
        "\n",
        "days=td.days\n",
        "print(\"days:\",days)\n",
        "\n",
        "seconds=td.seconds\n",
        "print(\"Seconds\",seconds)"
      ],
      "metadata": {
        "colab": {
          "base_uri": "https://localhost:8080/"
        },
        "id": "ExlN1xUpieLA",
        "outputId": "def2cd2e-f3d2-4598-eb1b-122addfff368"
      },
      "execution_count": null,
      "outputs": [
        {
          "output_type": "stream",
          "name": "stdout",
          "text": [
            "Time difference: 4:35:03.524402\n",
            "days: 0\n",
            "Seconds 16503\n"
          ]
        }
      ]
    },
    {
      "cell_type": "code",
      "source": [
        "import pandas as pd\n",
        "dr=pd.date_range(start='2023-01-01',end='2024-12-31',freq='D')\n",
        "df = pd.DataFrame(dr, columns=['Date'])\n",
        "print(df.head(10))\n",
        "\n"
      ],
      "metadata": {
        "colab": {
          "base_uri": "https://localhost:8080/"
        },
        "id": "rxMMXpK9igaY",
        "outputId": "af474e54-8bdd-4728-afed-6fa7b6171197"
      },
      "execution_count": null,
      "outputs": [
        {
          "output_type": "stream",
          "name": "stdout",
          "text": [
            "        Date\n",
            "0 2023-01-01\n",
            "1 2023-01-02\n",
            "2 2023-01-03\n",
            "3 2023-01-04\n",
            "4 2023-01-05\n",
            "5 2023-01-06\n",
            "6 2023-01-07\n",
            "7 2023-01-08\n",
            "8 2023-01-09\n",
            "9 2023-01-10\n"
          ]
        }
      ]
    },
    {
      "cell_type": "code",
      "source": [
        "dob=input(\"Enter the date of birth(yy-mm-dd):\")\n",
        "dobj=datetime.strptime(dob,'%Y-%m-%d')\n",
        "print(dobj)\n",
        "ad=datetime.now()-dobj\n",
        "print(\"age in days:\",ad)\n",
        "age=ad.days/365.25\n",
        "#print(\"Age :\",int(age))\n",
        "d1=date_obj.year-dobj.year\n",
        "print(\"years:\",d1)\n",
        "d2=date_obj.month-dobj.month\n",
        "print(\"months:\",d2)\n",
        "\n",
        "d3=date_obj.day-dobj.day\n",
        "print(\"days:\",d3)"
      ],
      "metadata": {
        "colab": {
          "base_uri": "https://localhost:8080/"
        },
        "id": "aJpbo-cCikeR",
        "outputId": "0b5d436e-b275-4f0a-b7dd-ca9d3f781022"
      },
      "execution_count": null,
      "outputs": [
        {
          "output_type": "stream",
          "name": "stdout",
          "text": [
            "Enter the date of birth(yy-mm-dd):2005-06-12\n",
            "2005-06-12 00:00:00\n",
            "age in days: 7051 days, 8:03:37.682310\n",
            "years: 19\n",
            "months: 4\n",
            "days: -11\n"
          ]
        }
      ]
    }
  ]
}